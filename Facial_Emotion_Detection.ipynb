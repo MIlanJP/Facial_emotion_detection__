{
  "nbformat": 4,
  "nbformat_minor": 0,
  "metadata": {
    "colab": {
      "name": "Facial Emotion Detection.ipynb",
      "provenance": [],
      "mount_file_id": "1s0mCeCVBer2J6vGNEzyoDfLVsokAFMOs",
      "authorship_tag": "ABX9TyNA+1bVN7ZWWNmZhPiHguY4",
      "include_colab_link": true
    },
    "kernelspec": {
      "name": "python3",
      "display_name": "Python 3"
    },
    "language_info": {
      "name": "python"
    }
  },
  "cells": [
    {
      "cell_type": "markdown",
      "metadata": {
        "id": "view-in-github",
        "colab_type": "text"
      },
      "source": [
        "<a href=\"https://colab.research.google.com/github/MIlanJP/Facial_emotion_detection__/blob/main/Facial_Emotion_Detection.ipynb\" target=\"_parent\"><img src=\"https://colab.research.google.com/assets/colab-badge.svg\" alt=\"Open In Colab\"/></a>"
      ]
    },
    {
      "cell_type": "markdown",
      "source": [
        ""
      ],
      "metadata": {
        "id": "534HzJjBBVSx"
      }
    },
    {
      "cell_type": "markdown",
      "source": [
        "# Importing Required Libraries\n"
      ],
      "metadata": {
        "id": "qVzir4t4BNYq"
      }
    },
    {
      "cell_type": "code",
      "source": [
        "# Importing libraries and dependencies\n",
        "import pandas as pd\n",
        "import numpy as np\n",
        "import matplotlib.pyplot as plt\n",
        "%matplotlib inline\n",
        "import seaborn as sns\n",
        "import tensorflow as tf\n",
        "import tensorflow.keras.layers as tfl\n",
        "import os \n",
        "from torch.utils.data import DataLoader\n",
        "import torchvision as tv\n",
        "from torchvision import transforms "
      ],
      "metadata": {
        "id": "HQ18eK-U-GF9"
      },
      "execution_count": 2,
      "outputs": []
    },
    {
      "cell_type": "markdown",
      "source": [
        ""
      ],
      "metadata": {
        "id": "OeQHuLCZBTq0"
      }
    },
    {
      "cell_type": "code",
      "source": [
        "from google.colab import drive\n",
        "# drive.mount('/content/drive')"
      ],
      "metadata": {
        "id": "sGjBFvy1B6Op"
      },
      "execution_count": 3,
      "outputs": []
    },
    {
      "cell_type": "code",
      "source": [
        "# Downloading the dataset\n",
        "!gdown --id 1kdAI0wrR_bTBs-6p/bKB6giz-JcNaTY-s\n",
        "\n",
        "# Unzipping the files\n",
        "!unzip '/content/drive/MyDrive/archive.zip'"
      ],
      "metadata": {
        "id": "PSebK4jkB6si"
      },
      "execution_count": 5,
      "outputs": []
    },
    {
      "cell_type": "code",
      "source": [
        ""
      ],
      "metadata": {
        "id": "4neUQW-4B9M6"
      },
      "execution_count": null,
      "outputs": []
    }
  ]
}